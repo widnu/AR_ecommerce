{
  "nbformat": 4,
  "nbformat_minor": 0,
  "metadata": {
    "colab": {
      "name": "nz_dl_mod.ipynb",
      "provenance": [],
      "collapsed_sections": [],
      "authorship_tag": "ABX9TyNTogr/VOZRNlsqbzNCT3kj",
      "include_colab_link": true
    },
    "kernelspec": {
      "name": "python3",
      "display_name": "Python 3"
    }
  },
  "cells": [
    {
      "cell_type": "markdown",
      "metadata": {
        "id": "view-in-github",
        "colab_type": "text"
      },
      "source": [
        "<a href=\"https://colab.research.google.com/github/widnu/AR_ecommerce/blob/master/nz_dl_mod.ipynb\" target=\"_parent\"><img src=\"https://colab.research.google.com/assets/colab-badge.svg\" alt=\"Open In Colab\"/></a>"
      ]
    },
    {
      "cell_type": "code",
      "metadata": {
        "id": "74owbDLPHimY",
        "colab_type": "code",
        "colab": {
          "base_uri": "https://localhost:8080/",
          "height": 35
        },
        "outputId": "167ecd68-b05b-4185-c9ef-293274c5601e"
      },
      "source": [
        "# from google.colab import files\n",
        "# uploaded = files.upload()\n",
        "\n",
        "from google.colab import drive \n",
        "drive.mount('/content/gdrive')"
      ],
      "execution_count": 12,
      "outputs": [
        {
          "output_type": "stream",
          "text": [
            "Drive already mounted at /content/gdrive; to attempt to forcibly remount, call drive.mount(\"/content/gdrive\", force_remount=True).\n"
          ],
          "name": "stdout"
        }
      ]
    },
    {
      "cell_type": "code",
      "metadata": {
        "id": "5DLWazIzycWT",
        "colab_type": "code",
        "colab": {}
      },
      "source": [
        "import pandas as pd \n",
        "#df=pd.read_csv('gdrive/My Drive/Colab Notebooks/dataset/nz_crime_dataset_14151617.csv', encoding='utf-8-sig')*\n",
        "df=pd.read_csv('gdrive/My Drive/Colab Notebooks/dataset/nz_crime_dataset.csv', encoding='utf-8-sig')"
      ],
      "execution_count": 13,
      "outputs": []
    },
    {
      "cell_type": "code",
      "metadata": {
        "id": "WmTYiXGH0Txt",
        "colab_type": "code",
        "colab": {
          "base_uri": "https://localhost:8080/",
          "height": 736
        },
        "outputId": "54c442ae-7edb-43f9-abed-9bf8c2f9ee19"
      },
      "source": [
        "df.info()\n",
        "df.describe()"
      ],
      "execution_count": 14,
      "outputs": [
        {
          "output_type": "stream",
          "text": [
            "<class 'pandas.core.frame.DataFrame'>\n",
            "RangeIndex: 1167347 entries, 0 to 1167346\n",
            "Data columns (total 17 columns):\n",
            " #   Column                 Non-Null Count    Dtype  \n",
            "---  ------                 --------------    -----  \n",
            " 0   DATE_NO_TIME           1167347 non-null  object \n",
            " 1   DATE_TIME              1167347 non-null  object \n",
            " 2   7_DAYS_CRIME           1167347 non-null  float64\n",
            " 3   1_MONTH_CRIME          1167347 non-null  float64\n",
            " 4   1_YEAR_CRIME           1167347 non-null  float64\n",
            " 5   TIME_SINCE_LAST_CRIME  1167347 non-null  float64\n",
            " 6   MONTH                  1167347 non-null  int64  \n",
            " 7   QUARTER                1167347 non-null  float64\n",
            " 8   DAY_OF_WEEK            1167347 non-null  object \n",
            " 9   DAY                    1167347 non-null  float64\n",
            " 10  HOUR                   1167347 non-null  float64\n",
            " 11  HOUR_PARTITION         1167347 non-null  float64\n",
            " 12  MESHBLOCK              1167347 non-null  int64  \n",
            " 13  AREA_0                 1167347 non-null  object \n",
            " 14  AREA_1                 1167347 non-null  object \n",
            " 15  WEAPON_TYPE            1167347 non-null  int64  \n",
            " 16  CRIME_TYPE             1167347 non-null  object \n",
            "dtypes: float64(8), int64(3), object(6)\n",
            "memory usage: 151.4+ MB\n"
          ],
          "name": "stdout"
        },
        {
          "output_type": "execute_result",
          "data": {
            "text/html": [
              "<div>\n",
              "<style scoped>\n",
              "    .dataframe tbody tr th:only-of-type {\n",
              "        vertical-align: middle;\n",
              "    }\n",
              "\n",
              "    .dataframe tbody tr th {\n",
              "        vertical-align: top;\n",
              "    }\n",
              "\n",
              "    .dataframe thead th {\n",
              "        text-align: right;\n",
              "    }\n",
              "</style>\n",
              "<table border=\"1\" class=\"dataframe\">\n",
              "  <thead>\n",
              "    <tr style=\"text-align: right;\">\n",
              "      <th></th>\n",
              "      <th>7_DAYS_CRIME</th>\n",
              "      <th>1_MONTH_CRIME</th>\n",
              "      <th>1_YEAR_CRIME</th>\n",
              "      <th>TIME_SINCE_LAST_CRIME</th>\n",
              "      <th>MONTH</th>\n",
              "      <th>QUARTER</th>\n",
              "      <th>DAY</th>\n",
              "      <th>HOUR</th>\n",
              "      <th>HOUR_PARTITION</th>\n",
              "      <th>MESHBLOCK</th>\n",
              "      <th>WEAPON_TYPE</th>\n",
              "    </tr>\n",
              "  </thead>\n",
              "  <tbody>\n",
              "    <tr>\n",
              "      <th>count</th>\n",
              "      <td>1.167347e+06</td>\n",
              "      <td>1.167347e+06</td>\n",
              "      <td>1.167347e+06</td>\n",
              "      <td>1.167347e+06</td>\n",
              "      <td>1.167347e+06</td>\n",
              "      <td>1.167347e+06</td>\n",
              "      <td>1.167347e+06</td>\n",
              "      <td>1.167347e+06</td>\n",
              "      <td>1.167347e+06</td>\n",
              "      <td>1.167347e+06</td>\n",
              "      <td>1.167347e+06</td>\n",
              "    </tr>\n",
              "    <tr>\n",
              "      <th>mean</th>\n",
              "      <td>8.766996e+00</td>\n",
              "      <td>9.575736e+00</td>\n",
              "      <td>1.205730e+01</td>\n",
              "      <td>1.281016e-01</td>\n",
              "      <td>6.536036e+00</td>\n",
              "      <td>2.512512e+00</td>\n",
              "      <td>5.013381e+00</td>\n",
              "      <td>1.310084e+01</td>\n",
              "      <td>1.205440e+01</td>\n",
              "      <td>1.302863e+06</td>\n",
              "      <td>9.731468e-03</td>\n",
              "    </tr>\n",
              "    <tr>\n",
              "      <th>std</th>\n",
              "      <td>1.000510e+00</td>\n",
              "      <td>2.638901e-01</td>\n",
              "      <td>5.601060e-01</td>\n",
              "      <td>7.455829e+00</td>\n",
              "      <td>3.552330e+00</td>\n",
              "      <td>1.149184e+00</td>\n",
              "      <td>2.150864e+00</td>\n",
              "      <td>4.183061e+00</td>\n",
              "      <td>4.167649e+00</td>\n",
              "      <td>8.577749e+05</td>\n",
              "      <td>1.042445e-01</td>\n",
              "    </tr>\n",
              "    <tr>\n",
              "      <th>min</th>\n",
              "      <td>0.000000e+00</td>\n",
              "      <td>0.000000e+00</td>\n",
              "      <td>0.000000e+00</td>\n",
              "      <td>0.000000e+00</td>\n",
              "      <td>1.000000e+00</td>\n",
              "      <td>1.000000e+00</td>\n",
              "      <td>1.000000e+00</td>\n",
              "      <td>0.000000e+00</td>\n",
              "      <td>0.000000e+00</td>\n",
              "      <td>-1.461000e+03</td>\n",
              "      <td>0.000000e+00</td>\n",
              "    </tr>\n",
              "    <tr>\n",
              "      <th>25%</th>\n",
              "      <td>8.377701e+00</td>\n",
              "      <td>9.481893e+00</td>\n",
              "      <td>1.217237e+01</td>\n",
              "      <td>0.000000e+00</td>\n",
              "      <td>3.000000e+00</td>\n",
              "      <td>1.000000e+00</td>\n",
              "      <td>3.000000e+00</td>\n",
              "      <td>1.262178e+01</td>\n",
              "      <td>1.200000e+01</td>\n",
              "      <td>6.075000e+05</td>\n",
              "      <td>0.000000e+00</td>\n",
              "    </tr>\n",
              "    <tr>\n",
              "      <th>50%</th>\n",
              "      <td>9.071538e+00</td>\n",
              "      <td>9.612667e+00</td>\n",
              "      <td>1.222303e+01</td>\n",
              "      <td>0.000000e+00</td>\n",
              "      <td>7.000000e+00</td>\n",
              "      <td>3.000000e+00</td>\n",
              "      <td>6.000000e+00</td>\n",
              "      <td>1.317855e+01</td>\n",
              "      <td>1.200000e+01</td>\n",
              "      <td>1.167000e+06</td>\n",
              "      <td>0.000000e+00</td>\n",
              "    </tr>\n",
              "    <tr>\n",
              "      <th>75%</th>\n",
              "      <td>9.474011e+00</td>\n",
              "      <td>9.706986e+00</td>\n",
              "      <td>1.224577e+01</td>\n",
              "      <td>0.000000e+00</td>\n",
              "      <td>1.000000e+01</td>\n",
              "      <td>4.000000e+00</td>\n",
              "      <td>7.000000e+00</td>\n",
              "      <td>1.400000e+01</td>\n",
              "      <td>1.200000e+01</td>\n",
              "      <td>2.029200e+06</td>\n",
              "      <td>0.000000e+00</td>\n",
              "    </tr>\n",
              "    <tr>\n",
              "      <th>max</th>\n",
              "      <td>1.000983e+01</td>\n",
              "      <td>1.023002e+01</td>\n",
              "      <td>1.235463e+01</td>\n",
              "      <td>5.770000e+02</td>\n",
              "      <td>1.200000e+01</td>\n",
              "      <td>4.000000e+00</td>\n",
              "      <td>7.000000e+00</td>\n",
              "      <td>2.300000e+01</td>\n",
              "      <td>2.100000e+01</td>\n",
              "      <td>3.210003e+06</td>\n",
              "      <td>2.000000e+00</td>\n",
              "    </tr>\n",
              "  </tbody>\n",
              "</table>\n",
              "</div>"
            ],
            "text/plain": [
              "       7_DAYS_CRIME  1_MONTH_CRIME  ...     MESHBLOCK   WEAPON_TYPE\n",
              "count  1.167347e+06   1.167347e+06  ...  1.167347e+06  1.167347e+06\n",
              "mean   8.766996e+00   9.575736e+00  ...  1.302863e+06  9.731468e-03\n",
              "std    1.000510e+00   2.638901e-01  ...  8.577749e+05  1.042445e-01\n",
              "min    0.000000e+00   0.000000e+00  ... -1.461000e+03  0.000000e+00\n",
              "25%    8.377701e+00   9.481893e+00  ...  6.075000e+05  0.000000e+00\n",
              "50%    9.071538e+00   9.612667e+00  ...  1.167000e+06  0.000000e+00\n",
              "75%    9.474011e+00   9.706986e+00  ...  2.029200e+06  0.000000e+00\n",
              "max    1.000983e+01   1.023002e+01  ...  3.210003e+06  2.000000e+00\n",
              "\n",
              "[8 rows x 11 columns]"
            ]
          },
          "metadata": {
            "tags": []
          },
          "execution_count": 14
        }
      ]
    },
    {
      "cell_type": "code",
      "metadata": {
        "id": "8FVtG3Ia1e09",
        "colab_type": "code",
        "colab": {
          "base_uri": "https://localhost:8080/",
          "height": 362
        },
        "outputId": "8ea09c82-8622-41cb-918b-12113c12db47"
      },
      "source": [
        "#######################################################\n",
        "# Count total NaN at each column in DataFrame\n",
        "print(df.isnull().sum())\n",
        "\n",
        "# Count all NaN in a DataFrame (both columns & Rows)\n",
        "print(df.isnull().sum().sum())\n",
        "\n",
        "# erase every row (axis=0) that has \"any\" Null value in it.\n",
        "df = df.dropna(how='any',axis=0) "
      ],
      "execution_count": 15,
      "outputs": [
        {
          "output_type": "stream",
          "text": [
            "DATE_NO_TIME             0\n",
            "DATE_TIME                0\n",
            "7_DAYS_CRIME             0\n",
            "1_MONTH_CRIME            0\n",
            "1_YEAR_CRIME             0\n",
            "TIME_SINCE_LAST_CRIME    0\n",
            "MONTH                    0\n",
            "QUARTER                  0\n",
            "DAY_OF_WEEK              0\n",
            "DAY                      0\n",
            "HOUR                     0\n",
            "HOUR_PARTITION           0\n",
            "MESHBLOCK                0\n",
            "AREA_0                   0\n",
            "AREA_1                   0\n",
            "WEAPON_TYPE              0\n",
            "CRIME_TYPE               0\n",
            "dtype: int64\n",
            "0\n"
          ],
          "name": "stdout"
        }
      ]
    },
    {
      "cell_type": "code",
      "metadata": {
        "id": "ZAzMTKyP1kOB",
        "colab_type": "code",
        "colab": {}
      },
      "source": [
        "#######################################################\n",
        "feature_var = ['7_DAYS_CRIME', '1_MONTH_CRIME', '1_YEAR_CRIME', 'TIME_SINCE_LAST_CRIME', 'MONTH', 'DAY', 'QUARTER', 'HOUR_PARTITION', 'AREA_0', 'AREA_1', 'WEAPON_TYPE']\n",
        "# feature_var = ['AREA_0', 'AREA_1']\n",
        "response_var = 'CRIME_TYPE'\n",
        "#######################################################\n",
        "X = df[feature_var]\n",
        "y = df.pop(response_var)\n",
        "# y = df[response_var]"
      ],
      "execution_count": 16,
      "outputs": []
    },
    {
      "cell_type": "code",
      "metadata": {
        "id": "AWbzwzPw1sYj",
        "colab_type": "code",
        "colab": {
          "base_uri": "https://localhost:8080/",
          "height": 92
        },
        "outputId": "eabc446c-ca8c-48a7-b918-dfcf7db85fec"
      },
      "source": [
        "########################################\n",
        "# Encode categorical variables\n",
        "from sklearn.preprocessing import OrdinalEncoder\n",
        "oe = OrdinalEncoder()\n",
        "oe.fit(X)\n",
        "X = oe.transform(X)\n",
        "\n",
        "# from sklearn.decomposition import PCA\n",
        "# pca = PCA(n_components=5)\n",
        "# X = pca.fit_transform(X)\n",
        "\n",
        "# from sklearn.preprocessing import StandardScaler\n",
        "# sc = StandardScaler()\n",
        "# X = sc.fit_transform(X)\n",
        "\n",
        "from sklearn.preprocessing import LabelEncoder\n",
        "le = LabelEncoder()\n",
        "le.fit(y)\n",
        "y = le.transform(y)\n",
        "\n",
        "from sklearn.preprocessing import MinMaxScaler\n",
        "scaler = MinMaxScaler(feature_range=(0, 1))\n",
        "X = scaler.fit_transform(X)\n",
        "\n",
        "# from keras.utils import to_categorical\n",
        "# y = to_categorical(y)\n",
        "\n",
        "#######################################################\n",
        "from imblearn.over_sampling import SMOTE\n",
        "from collections import Counter\n",
        "counter = Counter(y)\n",
        "print(counter)\n",
        "# transform the dataset\n",
        "oversample = SMOTE()\n",
        "X, y = oversample.fit_resample(X, y)\n",
        "# summarize the new class distribution\n",
        "counter = Counter(y)\n",
        "print(counter)\n",
        "\n",
        "#######################################################\n",
        "from sklearn.model_selection import train_test_split\n",
        "X_train, X_test, y_train, y_test = train_test_split(X, y, test_size = 0.3, random_state = 5)\n",
        "\n",
        "# Reserve 10,000 samples for validation\n",
        "X_val = X_train[-10000:]\n",
        "y_val = y_train[-10000:]\n",
        "X_train = X_train[:-10000]\n",
        "y_train = y_train[:-10000]\n",
        "\n",
        "#######################################################\n",
        "#df_X = pd.DataFrame(data=X)\n",
        "#df_y = pd.DataFrame(data=y)"
      ],
      "execution_count": null,
      "outputs": [
        {
          "output_type": "stream",
          "text": [
            "Counter({1: 676408, 2: 371126, 0: 119813})\n"
          ],
          "name": "stdout"
        },
        {
          "output_type": "stream",
          "text": [
            "/usr/local/lib/python3.6/dist-packages/sklearn/utils/deprecation.py:87: FutureWarning: Function safe_indexing is deprecated; safe_indexing is deprecated in version 0.22 and will be removed in version 0.24.\n",
            "  warnings.warn(msg, category=FutureWarning)\n"
          ],
          "name": "stderr"
        }
      ]
    },
    {
      "cell_type": "code",
      "metadata": {
        "id": "LNmYLYTX1yr3",
        "colab_type": "code",
        "colab": {}
      },
      "source": [
        "import tensorflow as tf\n",
        "#dataset = tf.data.Dataset.from_tensor_slices((df_X.values, df_y.values))"
      ],
      "execution_count": null,
      "outputs": []
    },
    {
      "cell_type": "code",
      "metadata": {
        "id": "S6GTytTP2Va0",
        "colab_type": "code",
        "colab": {}
      },
      "source": [
        "#train_dataset = dataset.shuffle(len(df_X)).batch(1)"
      ],
      "execution_count": null,
      "outputs": []
    },
    {
      "cell_type": "code",
      "metadata": {
        "id": "LMcBPgWI2OQ6",
        "colab_type": "code",
        "colab": {}
      },
      "source": [
        "def get_compiled_model():\n",
        "    model = tf.keras.Sequential([\n",
        "      tf.keras.layers.Dense(128, activation='relu', kernel_initializer='he_uniform'),\n",
        "      tf.keras.layers.Dense(128, activation='relu'),\n",
        "      tf.keras.layers.Dense(128, activation='relu'),\n",
        "      tf.keras.layers.Dense(128, activation='relu'),\n",
        "      tf.keras.layers.Dense(3, activation='softmax')\n",
        "    ])\n",
        "    \n",
        "    model.compile(optimizer='adam',\n",
        "              loss='sparse_categorical_crossentropy',\n",
        "              metrics=['accuracy'])\n",
        "    return model\n"
      ],
      "execution_count": null,
      "outputs": []
    },
    {
      "cell_type": "code",
      "metadata": {
        "id": "U6P7I7Nx2mcT",
        "colab_type": "code",
        "colab": {}
      },
      "source": [
        "model = get_compiled_model()\n",
        "\n",
        "history = model.fit(\n",
        "    X_train,\n",
        "    y_train,\n",
        "    batch_size=64,\n",
        "    epochs=256,\n",
        "    validation_data=(X_val, y_val),\n",
        ")\n",
        "\n",
        "history.history\n",
        "model.summary()\n",
        "\n",
        "# https://www.dlology.com/blog/how-to-choose-last-layer-activation-and-loss-function/\n",
        "\n",
        "##################################################\n",
        "# Evaluate the model on the test data using `evaluate`\n",
        "print(\"Evaluate on test data\")\n",
        "results = model.evaluate(X_test, y_test, batch_size=128)\n",
        "print(\"test loss, test acc:\", results)\n",
        "\n",
        "# Generate predictions (probabilities -- the output of the last layer)\n",
        "# on new data using `predict`\n",
        "print(\"Generate predictions for 3 samples\")\n",
        "predictions = model.predict(X_test[:3])\n",
        "print(\"predictions shape:\", predictions.shape)"
      ],
      "execution_count": null,
      "outputs": []
    }
  ]
}